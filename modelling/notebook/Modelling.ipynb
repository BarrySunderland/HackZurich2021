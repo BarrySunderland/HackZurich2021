{
 "cells": [
  {
   "cell_type": "code",
   "execution_count": 1,
   "id": "a4c182f7",
   "metadata": {
    "ExecuteTime": {
     "end_time": "2021-09-26T06:37:27.832455Z",
     "start_time": "2021-09-26T06:37:26.007343Z"
    }
   },
   "outputs": [],
   "source": [
    "from data_processing.src.feature_extractor import DataGenerator\n",
    "from data_processing.src.data_processor import DataProcessor\n",
    "from paths import PATHS\n",
    "import pandas as pd\n",
    "from sklearn.model_selection import train_test_split\n",
    "import lightgbm as lgb\n",
    "import os"
   ]
  },
  {
   "cell_type": "markdown",
   "id": "e4c9456d",
   "metadata": {
    "ExecuteTime": {
     "end_time": "2021-09-26T06:42:58.330737Z",
     "start_time": "2021-09-26T06:42:58.325312Z"
    }
   },
   "source": [
    "# Modelling\n",
    "\n",
    "This notebook exists in script format as well, ``modelling/train_model.py``"
   ]
  },
  {
   "cell_type": "markdown",
   "id": "8e3a1de6",
   "metadata": {},
   "source": [
    "# Loading Data\n",
    "\n",
    "Processed Disruption Data: This is the disruption data joined with RSSI data to get location information.\n",
    "\n",
    "RSSI Combined data: This is the processed rssi data averaged over a day and Position of the train. "
   ]
  },
  {
   "cell_type": "code",
   "execution_count": null,
   "id": "2d056346",
   "metadata": {},
   "outputs": [],
   "source": [
    "disruption_df = pd.read_csv(\n",
    "        DataProcessor.gen_proc_file_name(\"disruption.csv\"),\n",
    "        infer_datetime_format=True,\n",
    "        parse_dates=True,\n",
    "    )\n",
    "    # ideally this should be from a database, as loading entirety of this data is super slow.\n",
    "print(\"Following step takes a lot of time, around 30-35 min, go get a coffee!\")\n",
    "print(\"14 models into the future are trained\")\n",
    "print(\"Collecting RSSI historical Data\")\n",
    "rssi_comb_df = DataProcessor.combine_events(save=False)\n",
    "print(\"Data collection Done!\")"
   ]
  },
  {
   "cell_type": "markdown",
   "id": "58ea6b06",
   "metadata": {
    "ExecuteTime": {
     "end_time": "2021-09-26T06:39:06.796020Z",
     "start_time": "2021-09-26T06:39:06.785048Z"
    }
   },
   "source": [
    "## Data preperation for training and evaluation\n",
    "\n",
    "The disruptions from disruption_df are used to look for the instances in rssi_comb where the information for signal values are observed `h` days in the past. These values are saved and used to train for the disruptions.\n",
    "\n",
    "\n",
    "(date, PositionNoLeap) -> DataGenerator -> historical values of signals \n",
    "\n",
    "### Data generation for training\n",
    "For a position the signal values in neighbourhood of 20m are combined to remove effects of noise in the measurement. \n",
    "\n",
    "**Samples for disruption:**\n",
    "\n",
    "If the event happens `today` and we want to train a model that predicts disruption 7 days into future then we would train the model from a window of [`today`-7-h, `today`-7] with training label of `disruption`.\n",
    "\n",
    "**Normal samples:**\n",
    "\n",
    "Since we also need to train the model with normal behaviour of the signal, we also sample random windows from the data and label them as `NO disruption`.\n",
    "\n",
    "During training we sample equal proportion of disruptive and non disruptive samples.\n",
    "\n",
    "### Feature Engineering\n",
    "\n",
    "We investigated the A2_rssi (averaged over a day and positional window = +- 20 m). Then we calculated mean and standard deviation of this value for the chosen historical window. The reason for this choice was on assumption that at a location the RSSI value follows a normal distrbution with a fixed mean and standard deviation.\n",
    "\n",
    "We calculated similar values for quality of signal 1 and signal 2 which are proportion of valid telegram received.\n",
    "\n",
    "\n",
    "We also used the position as one of the feature as well because each position can have a different characteristics."
   ]
  },
  {
   "cell_type": "code",
   "execution_count": null,
   "id": "3404f922",
   "metadata": {},
   "outputs": [],
   "source": [
    "train_disruptions_df, test_disruptions_df = train_test_split(\n",
    "        disruption_df, test_size=0.2\n",
    "    )\n",
    "features = [\"A2_RSSI\"]\n",
    "train_disruptions_df, test_disruptions_df = train_test_split(\n",
    "    disruption_df, test_size=0.2\n",
    ")"
   ]
  },
  {
   "cell_type": "markdown",
   "id": "e9e00af1",
   "metadata": {},
   "source": [
    "# Model approach\n",
    "\n",
    "We explored linear ridge classification for predicting disruption for its simplicity and GradientBoosting models for their fast inference and superior performance. In our experiments GradientBoosting performed better than a linear model.\n",
    " \n",
    " \n",
    " The best feature with most predictive power was the mean and standard deviation of A2_RSSI , other feature did not improve the validation performance.\n",
    " \n",
    " We train 7 models for predicting disruption into the future, one model for each day into the future starting from 2."
   ]
  },
  {
   "cell_type": "code",
   "execution_count": null,
   "id": "eab7aa54",
   "metadata": {},
   "outputs": [],
   "source": [
    "models = []\n",
    "scores = []\n",
    "for d in range(1, 14):\n",
    "    train_data = DataGenerator(train_disruptions_df, rssi_comb_df, features)\n",
    "    train_x, train_y = train_data.generate_samples(\n",
    "        num_samples=300, prediction_days=d, history=20\n",
    "    )\n",
    "    test_data = DataGenerator(test_disruptions_df, rssi_comb_df, features)\n",
    "    test_x, test_y = test_data.generate_samples(\n",
    "        num_samples=50, prediction_days=d, history=20\n",
    "    )\n",
    "    model = lgb.LGBMClassifier()\n",
    "    model.fit(X=train_x, y=train_y)\n",
    "    print(\n",
    "        f\"Train accuracy score for {d} days into future  {model.score(train_x,train_y)}\"\n",
    "    )\n",
    "    print(\n",
    "        f\"Test accuracy score for {d} days into future {model.score(test_x,test_y)}\"\n",
    "    )\n",
    "    scores.append([model.score(test_x, test_y), model.score(train_x, train_y)])\n",
    "    \n",
    "    ## optionally one can save the model as here\n",
    "#     model.booster_.save_model(\n",
    "#         os.path.join(PATHS.data, \"model\", f\"lgb_model_d{d}.txt\")\n",
    "#     )\n",
    "    models.append(model)\n",
    "\n",
    "print(scores)"
   ]
  }
 ],
 "metadata": {
  "kernelspec": {
   "display_name": "Python 3",
   "language": "python",
   "name": "python3"
  },
  "language_info": {
   "codemirror_mode": {
    "name": "ipython",
    "version": 3
   },
   "file_extension": ".py",
   "mimetype": "text/x-python",
   "name": "python",
   "nbconvert_exporter": "python",
   "pygments_lexer": "ipython3",
   "version": "3.6.9"
  },
  "toc": {
   "base_numbering": 1,
   "nav_menu": {},
   "number_sections": true,
   "sideBar": true,
   "skip_h1_title": false,
   "title_cell": "Table of Contents",
   "title_sidebar": "Contents",
   "toc_cell": false,
   "toc_position": {},
   "toc_section_display": true,
   "toc_window_display": false
  },
  "varInspector": {
   "cols": {
    "lenName": 16,
    "lenType": 16,
    "lenVar": 40
   },
   "kernels_config": {
    "python": {
     "delete_cmd_postfix": "",
     "delete_cmd_prefix": "del ",
     "library": "var_list.py",
     "varRefreshCmd": "print(var_dic_list())"
    },
    "r": {
     "delete_cmd_postfix": ") ",
     "delete_cmd_prefix": "rm(",
     "library": "var_list.r",
     "varRefreshCmd": "cat(var_dic_list()) "
    }
   },
   "types_to_exclude": [
    "module",
    "function",
    "builtin_function_or_method",
    "instance",
    "_Feature"
   ],
   "window_display": false
  }
 },
 "nbformat": 4,
 "nbformat_minor": 5
}
