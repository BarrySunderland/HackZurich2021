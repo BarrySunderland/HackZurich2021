{
 "cells": [
  {
   "cell_type": "code",
   "execution_count": 1,
   "id": "a4c182f7",
   "metadata": {
    "ExecuteTime": {
     "end_time": "2021-09-26T06:49:44.446758Z",
     "start_time": "2021-09-26T06:49:42.684646Z"
    }
   },
   "outputs": [],
   "source": [
    "from data_processing.src.feature_extractor import DataGenerator\n",
    "from data_processing.src.data_processor import DataProcessor\n",
    "from paths import PATHS\n",
    "import pandas as pd\n",
    "from sklearn.model_selection import train_test_split\n",
    "import lightgbm as lgb\n",
    "import os"
   ]
  },
  {
   "cell_type": "markdown",
   "id": "cc9da4c6",
   "metadata": {
    "ExecuteTime": {
     "end_time": "2021-09-26T06:42:58.330737Z",
     "start_time": "2021-09-26T06:42:58.325312Z"
    }
   },
   "source": [
    "# Modelling\n",
    "\n",
    "This notebook exists in script format as well, ``modelling/train_model.py``. This notebook is for illustration in an interactive way."
   ]
  },
  {
   "cell_type": "markdown",
   "id": "95db0eef",
   "metadata": {},
   "source": [
    "# Loading Data\n",
    "\n",
    "Processed Disruption Data: This is the disruption data joined with RSSI data to get location information.\n",
    "\n",
    "RSSI Combined data: This is the processed rssi data averaged over a day and Position of the train. "
   ]
  },
  {
   "cell_type": "code",
   "execution_count": 2,
   "id": "d7274007",
   "metadata": {
    "ExecuteTime": {
     "end_time": "2021-09-26T06:51:53.210342Z",
     "start_time": "2021-09-26T06:49:45.378885Z"
    }
   },
   "outputs": [
    {
     "name": "stdout",
     "output_type": "stream",
     "text": [
      "Following step takes a lot of time, around 30-35 min, go get a coffee!\n",
      "14 models into the future are trained\n",
      "Collecting RSSI historical Data\n"
     ]
    },
    {
     "name": "stderr",
     "output_type": "stream",
     "text": [
      "100%|██████████| 3098/3098 [02:03<00:00, 25.15it/s]\n"
     ]
    },
    {
     "name": "stdout",
     "output_type": "stream",
     "text": [
      "Data collection Done!\n"
     ]
    }
   ],
   "source": [
    "disruption_df = pd.read_csv(\n",
    "        DataProcessor.gen_proc_file_name(\"disruption.csv\"),\n",
    "        infer_datetime_format=True,\n",
    "        parse_dates=True,\n",
    "    )\n",
    "    # ideally this should be from a database, as loading entirety of this data is super slow.\n",
    "print(\"Following step takes a lot of time, around 30-35 min, go get a coffee!\")\n",
    "print(\"14 models into the future are trained\")\n",
    "print(\"Collecting RSSI historical Data\")\n",
    "rssi_comb_df = DataProcessor.combine_events(save=False)\n",
    "print(\"Data collection Done!\")"
   ]
  },
  {
   "cell_type": "markdown",
   "id": "14b2f2e9",
   "metadata": {
    "ExecuteTime": {
     "end_time": "2021-09-26T06:39:06.796020Z",
     "start_time": "2021-09-26T06:39:06.785048Z"
    }
   },
   "source": [
    "## Data preperation for training and evaluation\n",
    "\n",
    "The disruptions from disruption_df are used to look for the instances in rssi_comb where the information for signal values are observed `h` days in the past. These values are saved and used to train for the disruptions.\n",
    "\n",
    "\n",
    "(date, PositionNoLeap) -> DataGenerator -> historical values of signals \n",
    "\n",
    "### Data generation for training\n",
    "For a position the signal values in neighbourhood of 20m are combined to remove effects of noise in the measurement. \n",
    "\n",
    "**Samples for disruption:**\n",
    "\n",
    "If the event happens `today` and we want to train a model that predicts disruption 7 days into future then we would train the model from a window of [`today`-7-h, `today`-7] with training label of `disruption`.\n",
    "\n",
    "**Normal samples:**\n",
    "\n",
    "Since we also need to train the model with normal behaviour of the signal, we also sample random windows from the data and label them as `NO disruption`.\n",
    "\n",
    "During training we sample equal proportion of disruptive and non disruptive samples.\n",
    "\n",
    "### Feature Engineering\n",
    "\n",
    "We investigated the A2_rssi (averaged over a day and positional window = +- 20 m). Then we calculated mean and standard deviation of this value for the chosen historical window. The reason for this choice was on assumption that at a location the RSSI value follows a normal distrbution with a fixed mean and standard deviation.\n",
    "\n",
    "We calculated similar values for quality of signal 1 and signal 2 which are proportion of valid telegram received.\n",
    "\n",
    "\n",
    "We also used the position as one of the feature as well because each position can have a different characteristics."
   ]
  },
  {
   "cell_type": "code",
   "execution_count": 4,
   "id": "7a19cb31",
   "metadata": {
    "ExecuteTime": {
     "end_time": "2021-09-26T06:53:54.667635Z",
     "start_time": "2021-09-26T06:53:54.648360Z"
    }
   },
   "outputs": [],
   "source": [
    "train_disruptions_df, test_disruptions_df = train_test_split(\n",
    "        disruption_df, test_size=0.2\n",
    "    )\n",
    "features = [\"A2_RSSI\"]\n",
    "train_disruptions_df, test_disruptions_df = train_test_split(\n",
    "    disruption_df, test_size=0.2\n",
    ")"
   ]
  },
  {
   "cell_type": "markdown",
   "id": "a901af0e",
   "metadata": {},
   "source": [
    "# Model approach\n",
    "\n",
    "We explored linear ridge classification for predicting disruption for its simplicity and GradientBoosting models for their fast inference and superior performance. In our experiments GradientBoosting performed better than a linear model.\n",
    " \n",
    " \n",
    " The best feature with most predictive power was the mean and standard deviation of A2_RSSI , other feature did not improve the validation performance.\n",
    " \n",
    " We train 7 models for predicting disruption into the future, one model for each day into the future starting from 2."
   ]
  },
  {
   "cell_type": "code",
   "execution_count": 5,
   "id": "f1c3972e",
   "metadata": {
    "ExecuteTime": {
     "end_time": "2021-09-26T06:56:25.024207Z",
     "start_time": "2021-09-26T06:53:56.580629Z"
    }
   },
   "outputs": [
    {
     "name": "stderr",
     "output_type": "stream",
     "text": [
      "/home/aneesh/Documents/HackZurich2021/team_repo/HackZurich2021/data_processing/src/feature_extractor.py:14: SettingWithCopyWarning: \n",
      "A value is trying to be set on a copy of a slice from a DataFrame.\n",
      "Try using .loc[row_indexer,col_indexer] = value instead\n",
      "\n",
      "See the caveats in the documentation: https://pandas.pydata.org/pandas-docs/stable/user_guide/indexing.html#returning-a-view-versus-a-copy\n",
      "  self.disruptions_df[\"Date\"] = pd.to_datetime(disruptions_df[\"DateTime\"]).dt.date\n",
      "100%|██████████| 150/150 [01:07<00:00,  2.21it/s]\n",
      "100%|██████████| 150/150 [00:59<00:00,  2.54it/s]\n",
      "100%|██████████| 25/25 [00:10<00:00,  2.37it/s]\n",
      "100%|██████████| 25/25 [00:10<00:00,  2.32it/s]"
     ]
    },
    {
     "name": "stdout",
     "output_type": "stream",
     "text": [
      "Train accuracy score for 3 days into future  0.9966329966329966\n",
      "Test accuracy score for 3 days into future 0.84\n",
      "[[0.84, 0.9966329966329966]]\n"
     ]
    },
    {
     "name": "stderr",
     "output_type": "stream",
     "text": [
      "\n"
     ]
    }
   ],
   "source": [
    "models = []\n",
    "scores = []\n",
    "# in training script the future horizon is 1 to 13 days.\n",
    "for d in range(3,4):\n",
    "    train_data = DataGenerator(train_disruptions_df, rssi_comb_df, features)\n",
    "    train_x, train_y = train_data.generate_samples(\n",
    "        num_samples=300, prediction_days=d, history=20\n",
    "    )\n",
    "    test_data = DataGenerator(test_disruptions_df, rssi_comb_df, features)\n",
    "    test_x, test_y = test_data.generate_samples(\n",
    "        num_samples=50, prediction_days=d, history=20\n",
    "    )\n",
    "    model = lgb.LGBMClassifier()\n",
    "    model.fit(X=train_x, y=train_y)\n",
    "    print(\n",
    "        f\"Train accuracy score for {d} days into future  {model.score(train_x,train_y)}\"\n",
    "    )\n",
    "    print(\n",
    "        f\"Test accuracy score for {d} days into future {model.score(test_x,test_y)}\"\n",
    "    )\n",
    "    scores.append([model.score(test_x, test_y), model.score(train_x, train_y)])\n",
    "    \n",
    "    ## optionally one can save the model as here\n",
    "#     model.booster_.save_model(\n",
    "#         os.path.join(PATHS.data, \"model\", f\"lgb_model_d{d}.txt\")\n",
    "#     )\n",
    "    models.append(model)\n",
    "\n",
    "print(scores)"
   ]
  },
  {
   "cell_type": "code",
   "execution_count": null,
   "id": "eb45aa18",
   "metadata": {},
   "outputs": [],
   "source": []
  }
 ],
 "metadata": {
  "kernelspec": {
   "display_name": "Python 3",
   "language": "python",
   "name": "python3"
  },
  "language_info": {
   "codemirror_mode": {
    "name": "ipython",
    "version": 3
   },
   "file_extension": ".py",
   "mimetype": "text/x-python",
   "name": "python",
   "nbconvert_exporter": "python",
   "pygments_lexer": "ipython3",
   "version": "3.6.9"
  },
  "toc": {
   "base_numbering": 1,
   "nav_menu": {},
   "number_sections": true,
   "sideBar": true,
   "skip_h1_title": false,
   "title_cell": "Table of Contents",
   "title_sidebar": "Contents",
   "toc_cell": false,
   "toc_position": {},
   "toc_section_display": true,
   "toc_window_display": false
  },
  "varInspector": {
   "cols": {
    "lenName": 16,
    "lenType": 16,
    "lenVar": 40
   },
   "kernels_config": {
    "python": {
     "delete_cmd_postfix": "",
     "delete_cmd_prefix": "del ",
     "library": "var_list.py",
     "varRefreshCmd": "print(var_dic_list())"
    },
    "r": {
     "delete_cmd_postfix": ") ",
     "delete_cmd_prefix": "rm(",
     "library": "var_list.r",
     "varRefreshCmd": "cat(var_dic_list()) "
    }
   },
   "types_to_exclude": [
    "module",
    "function",
    "builtin_function_or_method",
    "instance",
    "_Feature"
   ],
   "window_display": false
  }
 },
 "nbformat": 4,
 "nbformat_minor": 5
}
