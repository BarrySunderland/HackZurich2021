{
 "cells": [
  {
   "cell_type": "code",
   "execution_count": 2,
   "id": "c4ddd605-83e9-42e7-bacf-fd47ff88fb4a",
   "metadata": {},
   "outputs": [],
   "source": [
    "import pandas as pd\n",
    "import os"
   ]
  },
  {
   "cell_type": "code",
   "execution_count": 3,
   "id": "234ca328-fb29-4b82-b53e-c5748c84ac94",
   "metadata": {},
   "outputs": [],
   "source": [
    "input_dir = \"../data/raw\"\n",
    "fname = 'rssi.csv'\n",
    "fpath = os.path.join(input_dir, fname)"
   ]
  },
  {
   "cell_type": "code",
   "execution_count": 8,
   "id": "ba3eef47-fd90-4349-aa65-c54f18efd6c3",
   "metadata": {},
   "outputs": [],
   "source": [
    "df_chunks = pd.read_csv(fpath, chunksize=10000,parse_dates=['DateTime'] )\n"
   ]
  },
  {
   "cell_type": "code",
   "execution_count": 9,
   "id": "1fd36cf9-00b1-461d-90f6-d9418e7d1307",
   "metadata": {},
   "outputs": [],
   "source": [
    "df = next(df_chunks)"
   ]
  },
  {
   "cell_type": "code",
   "execution_count": 10,
   "id": "5fba96b8-83f8-4097-9c1d-d1a543bf5bbf",
   "metadata": {},
   "outputs": [
    {
     "output_type": "execute_result",
     "data": {
      "text/plain": [
       "                        ID  AreaNumber  Track  Position  PositionNoLeap  \\\n",
       "DateTime                                                                  \n",
       "2021-01-09 00:00:01      1          33      1    315325          322075   \n",
       "2021-01-09 00:00:02      2          33      1    315404          322154   \n",
       "2021-01-09 00:00:03      3          33      1    315477          322227   \n",
       "2021-01-09 00:00:04      4          33      1    315542          322292   \n",
       "2021-01-09 00:00:05      5          33      1    315601          322351   \n",
       "...                    ...         ...    ...       ...             ...   \n",
       "2021-01-09 02:46:36   9996          40      2    420442          427192   \n",
       "2021-01-09 02:46:37   9997          40      2    420442          427192   \n",
       "2021-01-09 02:46:38   9998          40      2    420442          427192   \n",
       "2021-01-09 02:46:39   9999          40      2    420442          427192   \n",
       "2021-01-09 02:46:40  10000          40      2    420442          427192   \n",
       "\n",
       "                      Latitude  Longitude  A1_TotalTel  A1_ValidTel  A2_RSSI  \\\n",
       "DateTime                                                                       \n",
       "2021-01-09 00:00:01  47.310370   8.114984      1754745      1731249     2.09   \n",
       "2021-01-09 00:00:02  47.310308   8.115033      1754750      1731254     1.99   \n",
       "2021-01-09 00:00:03  47.310248   8.115072      1754755      1731259     2.05   \n",
       "2021-01-09 00:00:04  47.310194   8.115106      1754760      1731264     2.06   \n",
       "2021-01-09 00:00:05  47.310145   8.115134      1754764      1731268     1.75   \n",
       "...                        ...        ...          ...          ...      ...   \n",
       "2021-01-09 02:46:36  47.241035   8.189314      1800582      1777084     2.19   \n",
       "2021-01-09 02:46:37  47.241035   8.189314      1800587      1777089     2.19   \n",
       "2021-01-09 02:46:38  47.241035   8.189314      1800592      1777094     2.16   \n",
       "2021-01-09 02:46:39  47.241035   8.189314      1800596      1777098     2.19   \n",
       "2021-01-09 02:46:40  47.241035   8.189314      1800601      1777103     2.16   \n",
       "\n",
       "                     A2_TotalTel  A2_ValidTel  \n",
       "DateTime                                       \n",
       "2021-01-09 00:00:01      1553797      1549606  \n",
       "2021-01-09 00:00:02      1553802      1549611  \n",
       "2021-01-09 00:00:03      1553807      1549616  \n",
       "2021-01-09 00:00:04      1553812      1549621  \n",
       "2021-01-09 00:00:05      1553816      1549625  \n",
       "...                          ...          ...  \n",
       "2021-01-09 02:46:36      1599626      1595432  \n",
       "2021-01-09 02:46:37      1599631      1595437  \n",
       "2021-01-09 02:46:38      1599636      1595442  \n",
       "2021-01-09 02:46:39      1599640      1595446  \n",
       "2021-01-09 02:46:40      1599645      1595451  \n",
       "\n",
       "[10000 rows x 12 columns]"
      ],
      "text/html": "<div>\n<style scoped>\n    .dataframe tbody tr th:only-of-type {\n        vertical-align: middle;\n    }\n\n    .dataframe tbody tr th {\n        vertical-align: top;\n    }\n\n    .dataframe thead th {\n        text-align: right;\n    }\n</style>\n<table border=\"1\" class=\"dataframe\">\n  <thead>\n    <tr style=\"text-align: right;\">\n      <th></th>\n      <th>ID</th>\n      <th>AreaNumber</th>\n      <th>Track</th>\n      <th>Position</th>\n      <th>PositionNoLeap</th>\n      <th>Latitude</th>\n      <th>Longitude</th>\n      <th>A1_TotalTel</th>\n      <th>A1_ValidTel</th>\n      <th>A2_RSSI</th>\n      <th>A2_TotalTel</th>\n      <th>A2_ValidTel</th>\n    </tr>\n    <tr>\n      <th>DateTime</th>\n      <th></th>\n      <th></th>\n      <th></th>\n      <th></th>\n      <th></th>\n      <th></th>\n      <th></th>\n      <th></th>\n      <th></th>\n      <th></th>\n      <th></th>\n      <th></th>\n    </tr>\n  </thead>\n  <tbody>\n    <tr>\n      <th>2021-01-09 00:00:01</th>\n      <td>1</td>\n      <td>33</td>\n      <td>1</td>\n      <td>315325</td>\n      <td>322075</td>\n      <td>47.310370</td>\n      <td>8.114984</td>\n      <td>1754745</td>\n      <td>1731249</td>\n      <td>2.09</td>\n      <td>1553797</td>\n      <td>1549606</td>\n    </tr>\n    <tr>\n      <th>2021-01-09 00:00:02</th>\n      <td>2</td>\n      <td>33</td>\n      <td>1</td>\n      <td>315404</td>\n      <td>322154</td>\n      <td>47.310308</td>\n      <td>8.115033</td>\n      <td>1754750</td>\n      <td>1731254</td>\n      <td>1.99</td>\n      <td>1553802</td>\n      <td>1549611</td>\n    </tr>\n    <tr>\n      <th>2021-01-09 00:00:03</th>\n      <td>3</td>\n      <td>33</td>\n      <td>1</td>\n      <td>315477</td>\n      <td>322227</td>\n      <td>47.310248</td>\n      <td>8.115072</td>\n      <td>1754755</td>\n      <td>1731259</td>\n      <td>2.05</td>\n      <td>1553807</td>\n      <td>1549616</td>\n    </tr>\n    <tr>\n      <th>2021-01-09 00:00:04</th>\n      <td>4</td>\n      <td>33</td>\n      <td>1</td>\n      <td>315542</td>\n      <td>322292</td>\n      <td>47.310194</td>\n      <td>8.115106</td>\n      <td>1754760</td>\n      <td>1731264</td>\n      <td>2.06</td>\n      <td>1553812</td>\n      <td>1549621</td>\n    </tr>\n    <tr>\n      <th>2021-01-09 00:00:05</th>\n      <td>5</td>\n      <td>33</td>\n      <td>1</td>\n      <td>315601</td>\n      <td>322351</td>\n      <td>47.310145</td>\n      <td>8.115134</td>\n      <td>1754764</td>\n      <td>1731268</td>\n      <td>1.75</td>\n      <td>1553816</td>\n      <td>1549625</td>\n    </tr>\n    <tr>\n      <th>...</th>\n      <td>...</td>\n      <td>...</td>\n      <td>...</td>\n      <td>...</td>\n      <td>...</td>\n      <td>...</td>\n      <td>...</td>\n      <td>...</td>\n      <td>...</td>\n      <td>...</td>\n      <td>...</td>\n      <td>...</td>\n    </tr>\n    <tr>\n      <th>2021-01-09 02:46:36</th>\n      <td>9996</td>\n      <td>40</td>\n      <td>2</td>\n      <td>420442</td>\n      <td>427192</td>\n      <td>47.241035</td>\n      <td>8.189314</td>\n      <td>1800582</td>\n      <td>1777084</td>\n      <td>2.19</td>\n      <td>1599626</td>\n      <td>1595432</td>\n    </tr>\n    <tr>\n      <th>2021-01-09 02:46:37</th>\n      <td>9997</td>\n      <td>40</td>\n      <td>2</td>\n      <td>420442</td>\n      <td>427192</td>\n      <td>47.241035</td>\n      <td>8.189314</td>\n      <td>1800587</td>\n      <td>1777089</td>\n      <td>2.19</td>\n      <td>1599631</td>\n      <td>1595437</td>\n    </tr>\n    <tr>\n      <th>2021-01-09 02:46:38</th>\n      <td>9998</td>\n      <td>40</td>\n      <td>2</td>\n      <td>420442</td>\n      <td>427192</td>\n      <td>47.241035</td>\n      <td>8.189314</td>\n      <td>1800592</td>\n      <td>1777094</td>\n      <td>2.16</td>\n      <td>1599636</td>\n      <td>1595442</td>\n    </tr>\n    <tr>\n      <th>2021-01-09 02:46:39</th>\n      <td>9999</td>\n      <td>40</td>\n      <td>2</td>\n      <td>420442</td>\n      <td>427192</td>\n      <td>47.241035</td>\n      <td>8.189314</td>\n      <td>1800596</td>\n      <td>1777098</td>\n      <td>2.19</td>\n      <td>1599640</td>\n      <td>1595446</td>\n    </tr>\n    <tr>\n      <th>2021-01-09 02:46:40</th>\n      <td>10000</td>\n      <td>40</td>\n      <td>2</td>\n      <td>420442</td>\n      <td>427192</td>\n      <td>47.241035</td>\n      <td>8.189314</td>\n      <td>1800601</td>\n      <td>1777103</td>\n      <td>2.16</td>\n      <td>1599645</td>\n      <td>1595451</td>\n    </tr>\n  </tbody>\n</table>\n<p>10000 rows × 12 columns</p>\n</div>"
     },
     "metadata": {},
     "execution_count": 10
    }
   ],
   "source": [
    "df = df.set_index('DateTime')\n",
    "df"
   ]
  },
  {
   "cell_type": "code",
   "execution_count": 11,
   "id": "c4000182-f7f6-46ca-a395-49e4a327194d",
   "metadata": {},
   "outputs": [],
   "source": [
    "cols = ['Track','PositionNoLeap','A1_TotalTel', 'A1_ValidTel', 'A2_RSSI', 'A2_TotalTel', 'A2_ValidTel'] \n",
    "grouped = df.loc[:,cols] \\\n",
    "            .groupby(['Track','PositionNoLeap']) \\\n",
    "            .resample('1H') \\\n",
    "            .mean()"
   ]
  },
  {
   "cell_type": "code",
   "execution_count": 12,
   "id": "46b44aea-242e-48f4-8605-6d735bb6544c",
   "metadata": {},
   "outputs": [],
   "source": [
    "grouped = grouped.drop(columns=['PositionNoLeap','Track'])"
   ]
  },
  {
   "cell_type": "code",
   "execution_count": 13,
   "id": "ea877cbb-1fe9-40b9-8f14-ade1a56f04fd",
   "metadata": {},
   "outputs": [],
   "source": [
    "df.to_csv('../../data-processing/data/interim/rssi_sample.csv')"
   ]
  },
  {
   "cell_type": "code",
   "execution_count": null,
   "id": "ea5f763a-8025-4ed0-b5ef-13fbdb11ca65",
   "metadata": {},
   "outputs": [],
   "source": []
  }
 ],
 "metadata": {
  "kernelspec": {
   "display_name": "Python 3",
   "language": "python",
   "name": "python3"
  },
  "language_info": {
   "codemirror_mode": {
    "name": "ipython",
    "version": 3
   },
   "file_extension": ".py",
   "mimetype": "text/x-python",
   "name": "python",
   "nbconvert_exporter": "python",
   "pygments_lexer": "ipython3",
   "version": "3.8.10-final"
  }
 },
 "nbformat": 4,
 "nbformat_minor": 5
}