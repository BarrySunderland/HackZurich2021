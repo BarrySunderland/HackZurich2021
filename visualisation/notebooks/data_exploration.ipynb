{
 "metadata": {
  "language_info": {
   "codemirror_mode": {
    "name": "ipython",
    "version": 3
   },
   "file_extension": ".py",
   "mimetype": "text/x-python",
   "name": "python",
   "nbconvert_exporter": "python",
   "pygments_lexer": "ipython3",
   "version": "3.6.9"
  },
  "orig_nbformat": 2,
  "kernelspec": {
   "name": "python3",
   "display_name": "Python 3",
   "language": "python"
  }
 },
 "nbformat": 4,
 "nbformat_minor": 2,
 "cells": [
  {
   "cell_type": "code",
   "execution_count": 2,
   "metadata": {},
   "outputs": [],
   "source": [
    "import pandas as pd"
   ]
  },
  {
   "cell_type": "code",
   "execution_count": 3,
   "metadata": {},
   "outputs": [
    {
     "output_type": "stream",
     "name": "stdout",
     "text": [
      "disruption.csv\tlocation_sorted.csv\t  rssi.db\nlocation.csv\tposition_lat_lon_ref.csv  trainNodes3857.csv\n"
     ]
    }
   ],
   "source": [
    "!ls ../../data/processed/"
   ]
  },
  {
   "cell_type": "code",
   "execution_count": 6,
   "metadata": {},
   "outputs": [],
   "source": [
    "fpath = \"../../data/processed/location.csv\"\n",
    "df = pd.read_csv(fpath)"
   ]
  },
  {
   "cell_type": "code",
   "execution_count": 12,
   "metadata": {},
   "outputs": [
    {
     "output_type": "execute_result",
     "data": {
      "text/plain": [
       "     Position_m  PositionNoLeap   Latitude  Longitude\n",
       "0            97    97437.000000  47.304855   8.049462\n",
       "1            98    98739.318182  47.305963   8.049999\n",
       "2            99    99465.757576  47.306592   8.050255\n",
       "3           100   100467.000000  47.307470   8.050526\n",
       "4           101   101491.176471  47.308384   8.050680\n",
       "..          ...             ...        ...        ...\n",
       "327         424   424504.500000  47.243380   8.188478\n",
       "328         425   425587.466667  47.242437   8.188825\n",
       "329         426   426535.681818  47.241609   8.189114\n",
       "330         427   427134.583333  47.241085   8.189296\n",
       "331         428   428021.714286  47.240311   8.189572\n",
       "\n",
       "[332 rows x 4 columns]"
      ],
      "text/html": "<div>\n<style scoped>\n    .dataframe tbody tr th:only-of-type {\n        vertical-align: middle;\n    }\n\n    .dataframe tbody tr th {\n        vertical-align: top;\n    }\n\n    .dataframe thead th {\n        text-align: right;\n    }\n</style>\n<table border=\"1\" class=\"dataframe\">\n  <thead>\n    <tr style=\"text-align: right;\">\n      <th></th>\n      <th>Position_m</th>\n      <th>PositionNoLeap</th>\n      <th>Latitude</th>\n      <th>Longitude</th>\n    </tr>\n  </thead>\n  <tbody>\n    <tr>\n      <th>0</th>\n      <td>97</td>\n      <td>97437.000000</td>\n      <td>47.304855</td>\n      <td>8.049462</td>\n    </tr>\n    <tr>\n      <th>1</th>\n      <td>98</td>\n      <td>98739.318182</td>\n      <td>47.305963</td>\n      <td>8.049999</td>\n    </tr>\n    <tr>\n      <th>2</th>\n      <td>99</td>\n      <td>99465.757576</td>\n      <td>47.306592</td>\n      <td>8.050255</td>\n    </tr>\n    <tr>\n      <th>3</th>\n      <td>100</td>\n      <td>100467.000000</td>\n      <td>47.307470</td>\n      <td>8.050526</td>\n    </tr>\n    <tr>\n      <th>4</th>\n      <td>101</td>\n      <td>101491.176471</td>\n      <td>47.308384</td>\n      <td>8.050680</td>\n    </tr>\n    <tr>\n      <th>...</th>\n      <td>...</td>\n      <td>...</td>\n      <td>...</td>\n      <td>...</td>\n    </tr>\n    <tr>\n      <th>327</th>\n      <td>424</td>\n      <td>424504.500000</td>\n      <td>47.243380</td>\n      <td>8.188478</td>\n    </tr>\n    <tr>\n      <th>328</th>\n      <td>425</td>\n      <td>425587.466667</td>\n      <td>47.242437</td>\n      <td>8.188825</td>\n    </tr>\n    <tr>\n      <th>329</th>\n      <td>426</td>\n      <td>426535.681818</td>\n      <td>47.241609</td>\n      <td>8.189114</td>\n    </tr>\n    <tr>\n      <th>330</th>\n      <td>427</td>\n      <td>427134.583333</td>\n      <td>47.241085</td>\n      <td>8.189296</td>\n    </tr>\n    <tr>\n      <th>331</th>\n      <td>428</td>\n      <td>428021.714286</td>\n      <td>47.240311</td>\n      <td>8.189572</td>\n    </tr>\n  </tbody>\n</table>\n<p>332 rows × 4 columns</p>\n</div>"
     },
     "metadata": {},
     "execution_count": 12
    }
   ],
   "source": [
    "df = df.sort_values(by=\"Position_m\").reset_index(drop=True)\n",
    "df"
   ]
  },
  {
   "cell_type": "code",
   "execution_count": 14,
   "metadata": {},
   "outputs": [],
   "source": [
    "fpath = \"../../data/processed/location_sorted.csv\""
   ]
  },
  {
   "cell_type": "code",
   "execution_count": 15,
   "metadata": {},
   "outputs": [],
   "source": [
    "df.to_csv(fpath)"
   ]
  },
  {
   "cell_type": "code",
   "execution_count": 8,
   "metadata": {},
   "outputs": [
    {
     "output_type": "execute_result",
     "data": {
      "text/plain": [
       "Position_m           428.000000\n",
       "PositionNoLeap    428021.714286\n",
       "Latitude              47.393726\n",
       "Longitude              8.189572\n",
       "dtype: float64"
      ]
     },
     "metadata": {},
     "execution_count": 8
    }
   ],
   "source": [
    "df.max()"
   ]
  },
  {
   "cell_type": "code",
   "execution_count": 9,
   "metadata": {},
   "outputs": [
    {
     "output_type": "execute_result",
     "data": {
      "text/plain": [
       "Position_m           97.000000\n",
       "PositionNoLeap    97437.000000\n",
       "Latitude             47.240311\n",
       "Longitude             8.041447\n",
       "dtype: float64"
      ]
     },
     "metadata": {},
     "execution_count": 9
    }
   ],
   "source": [
    "df.min()"
   ]
  },
  {
   "cell_type": "code",
   "execution_count": null,
   "metadata": {},
   "outputs": [],
   "source": []
  }
 ]
}